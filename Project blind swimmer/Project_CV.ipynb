{
 "cells": [
  {
   "cell_type": "markdown",
   "metadata": {},
   "source": [
    "# Computer Vision Project\n",
    "\n",
    "Submitted by: [*Mira Gleizer ID 320685118 and Dvora Daniel Ben-Tsvi ID 204186522*]"
   ]
  },
  {
   "cell_type": "code",
   "execution_count": 1,
   "metadata": {},
   "outputs": [],
   "source": [
    "import matplotlib.pyplot as plt\n",
    "import numpy as np\n",
    "import cv2\n",
    "\n",
    "import winsound"
   ]
  },
  {
   "cell_type": "markdown",
   "metadata": {},
   "source": [
    "## Part1\n",
    "### In this part, we are going to modify the original video by adding the  at the end of half a minute of original video after being rotated. \n",
    "We rotated the video to test the function of saving the path."
   ]
  },
  {
   "cell_type": "code",
   "execution_count": 2,
   "metadata": {},
   "outputs": [],
   "source": [
    "def translate(dx,dy):\n",
    "    M = np.eye(3)\n",
    "    M[:,2] = [dx,dy,1]\n",
    "    return M\n",
    "\n",
    "\n",
    "def rotate(angle):\n",
    "    M = np.eye(3)\n",
    "    sin, cos = np.sin(angle), np.cos(angle)\n",
    "    M[:2,:2] = [[cos,-sin],[sin,cos]]\n",
    "    return M\n"
   ]
  },
  {
   "cell_type": "markdown",
   "metadata": {},
   "source": [
    "#### The function for rotate the image"
   ]
  },
  {
   "cell_type": "code",
   "execution_count": 3,
   "metadata": {},
   "outputs": [],
   "source": [
    "def RotateImage (frame, angle):\n",
    "    h,w,_ = frame.shape\n",
    "    \n",
    "    T1 = translate(w/2, h/2)\n",
    "    T2 = translate(-w/2, -h/2)\n",
    "\n",
    "    angle =angle/100*2*np.pi\n",
    "    M = rotate(angle)\n",
    "    P = (T1.dot(M)).dot(T2)\n",
    "    frame_warp = cv2.warpPerspective(frame.copy(), P, (w,h),borderValue=(255,255,255))\n",
    "\n",
    "    return frame_warp"
   ]
  },
  {
   "cell_type": "markdown",
   "metadata": {},
   "source": [
    "## The function  IfFrameBlue(frame, h) takes an image and determines if blue is the predominant color\n",
    "### If blue is the predominant color - the function returns True, else returns False"
   ]
  },
  {
   "cell_type": "code",
   "execution_count": 4,
   "metadata": {},
   "outputs": [],
   "source": [
    "def IfFrameBlue(frame, w, h):\n",
    "   \n",
    "    new_frame = cv2.resize(frame.copy(), (int(w/4), int(h/4)))\n",
    "    #print (int(w/4), int(h/4))\n",
    "    frame_hsv = cv2.cvtColor(new_frame, cv2.COLOR_BGR2HSV)\n",
    "    bl = 0\n",
    "    not_bl = 0\n",
    "\n",
    "    for j in range (0, int(w/4)-1, 2):\n",
    "        for i in range(0, int(h/4)-1, 2):\n",
    "           \n",
    "            temp = frame_hsv[i,j,:]\n",
    "            if temp[0]<80 or temp[0]> 130:\n",
    "                not_bl = not_bl+1\n",
    "\n",
    "            else:\n",
    "                bl = bl+1\n",
    "   \n",
    "    if not_bl>bl/2:\n",
    "        return False\n",
    "    else:\n",
    "        return True\n"
   ]
  },
  {
   "cell_type": "markdown",
   "metadata": {},
   "source": [
    "## The function writes blue frames to a new video file"
   ]
  },
  {
   "cell_type": "code",
   "execution_count": 5,
   "metadata": {},
   "outputs": [],
   "source": [
    "def JustBlue(filenameIn, filenameOut):\n",
    "    cap = cv2.VideoCapture(filenameIn)\n",
    "\n",
    "    ret ,frame0 = cap.read()\n",
    "    h,w,_ = frame0.shape # (height x width x 3)\n",
    "\n",
    "    fourcc = cv2.VideoWriter_fourcc(*'mp4v') # DIVX, XVID, MJPG, X264, WMV1, WMV2,...\n",
    "    out = cv2.VideoWriter(filenameOut,fourcc, 20.0, (w,h)) #with border\n",
    "\n",
    "    print(\" Writing blue frames to a new video file. May be take a few minutes...\")\n",
    "\n",
    "    while True:\n",
    "        ret, frame = cap.read()\n",
    "        if ret==True:\n",
    "            #cv2.imshow('Original',frame)\n",
    "            if IfFrameBlue(frame,w,  h):\n",
    "                out.write(frame)\n",
    "\n",
    "        else:\n",
    "            break\n",
    "        \n",
    "    cap.release() # release input video\n",
    "    out.release() # release output video \n",
    "    print(\"Done\");"
   ]
  },
  {
   "cell_type": "markdown",
   "metadata": {},
   "source": [
    "## Here we \"glue\" the original part of the video together with edited part.\n",
    "## Writing in beginning of the file - original partand adds in the end something like half a minute video\n",
    "## from the rotated frames."
   ]
  },
  {
   "cell_type": "code",
   "execution_count": 6,
   "metadata": {},
   "outputs": [],
   "source": [
    "def Rotate_And_Glue(filenameIn1, filenameIn2, filenameOut):\n",
    "    cap0 = cv2.VideoCapture(filenameIn1)\n",
    "    cap = cv2.VideoCapture(filenameIn2)\n",
    "\n",
    "\n",
    "    ret ,frame0 = cap0.read()\n",
    "    h,w,_ = frame0.shape # (height x width x 3)\n",
    "\n",
    "    fourcc = cv2.VideoWriter_fourcc(*'mp4v') # DIVX, XVID, MJPG, X264, WMV1, WMV2,...\n",
    "    out = cv2.VideoWriter(filenameOut, fourcc, 20.0, (w,h)) \n",
    "\n",
    "    print(\"we glue the original part of the video together with edited part. It may takes a few minutes....\")\n",
    "\n",
    "    # writing in beginning of the file - original part\n",
    "    while True:\n",
    "        ret, frame = cap0.read()\n",
    "        if ret==True:\n",
    "\n",
    "            out.write(frame)     \n",
    "        else:\n",
    "            break\n",
    "    cap0.release() \n",
    "\n",
    "    ret, frame = cap.read()\n",
    "    n_frames = int(cap.get(cv2.CAP_PROP_FRAME_COUNT))\n",
    "\n",
    "    for i in range(int(n_frames/4)):\n",
    "        ret, frame = cap.read()\n",
    "        New_frame = RotateImage (frame,90)[50:310, 150:490]\n",
    "        New_frame = cv2.resize(New_frame, (w, h))\n",
    "        out.write(New_frame)\n",
    "\n",
    "    for i in range(int(n_frames/4),int(n_frames/2)):\n",
    "        ret, frame = cap.read()\n",
    "        New_frame = RotateImage (frame,10)[50:310, 150:490]\n",
    "        New_frame = cv2.resize(New_frame, (w, h))\n",
    "        out.write(New_frame)\n",
    "\n",
    "    cap.release() # release input video\n",
    "    out.release() # release output video \n",
    "\n",
    "    cv2.waitKey(1)\n",
    "    print(\"Done\");"
   ]
  },
  {
   "cell_type": "markdown",
   "metadata": {},
   "source": [
    "## Part 2\n",
    "## In this part, we will process the video that we received in the previous part.\n",
    "## First of all, we will determine the end of the pool track when the swimmer needs to stop or turn around. \n",
    "## Then, using the rotated part of the video, we will simulate the situation when the swimmer deviated from the straight route.\n",
    "======================================================================================================================="
   ]
  },
  {
   "cell_type": "markdown",
   "metadata": {},
   "source": [
    "### The function DrawLines(frame) draws lines on the frame by using cv2.Canny() and  cv2.HoughLinesP(). \n",
    "Additionally the function calculates the slope of the line to find horizontal lines (The slope of the line is not more than 0.5 degrees)\n"
   ]
  },
  {
   "cell_type": "code",
   "execution_count": 15,
   "metadata": {},
   "outputs": [],
   "source": [
    "def DrawLines(frame):\n",
    "    flag = \"\"\n",
    "    new_frame = frame.copy()\n",
    "    gray_frame = cv2.cvtColor(new_frame, cv2.COLOR_BGR2GRAY)\n",
    "    edges_frame = cv2.Canny(gray_frame,100,200,apertureSize = 3) #detecting edges\n",
    "    lines = cv2.HoughLinesP(edges_frame[100:, 150:450],1,np.pi/180,15,minLineLength=150,maxLineGap=7)\n",
    "    if lines is not None:\n",
    "        for line in lines:\n",
    "            x1,y1,x2,y2 = line[0]\n",
    "            #checking divine by zero\n",
    "            if (x2-x1)==0:\n",
    "                continue\n",
    "            else:\n",
    "                #calculating the slope of the line\n",
    "                m = (y2 - y1)/(x2 - x1)      \n",
    "               \n",
    "                cv2.line(new_frame,(x1+150,y1+100),(x2+150,y2+100),(255, 100,0),2)\n",
    "                if m > 0.5 and m < 2:\n",
    "                    cv2.line(new_frame,(x1+150,y1+100),(x2+150,y2+100),(255, 255,255),2)\n",
    "                    cv2.putText(new_frame,\"<- Take left\",(50,40), font, 0.5,(255,255,255),2,cv2.LINE_AA)\n",
    "                    flag = \"l\"\n",
    "                    \n",
    "                if m > -2 and m < -0.5:\n",
    "                    cv2.line(new_frame,(x1+150,y1+100),(x2+150,y2+100),(255, 255,255),2)\n",
    "                    cv2.putText(new_frame,\"Take right ->\",(50,40), font, 0.5,(255,255,255),2,cv2.LINE_AA)\n",
    "                    flag = \"r\"\n",
    "                    \n",
    "                if abs(m) < 0.5 :\n",
    "                    cv2.line(new_frame,(x1+150,y1+100),(x2+150,y2+100),(0,0,255),2)\n",
    "\n",
    "                    if IfLineIsRed(frame) :\n",
    "                        cv2.putText(new_frame,\"Red line\",(50,40), font, 0.5,(255,255,255),2,cv2.LINE_AA)\n",
    "                        continue\n",
    "                    else:\n",
    "                        cv2.putText(new_frame,\"STOP!!!\",(50,40), font, 1,(255,255,255),2,cv2.LINE_AA) \n",
    "                        cv2.putText(new_frame,\"STOP!!!\",(51,41), font, 1,(0,0,255),2,cv2.LINE_AA)\n",
    "                        flag = \"s\"\n",
    "                        \n",
    "\n",
    "    if flag == \"l\" :\n",
    "        winsound.Beep(1000, 50)\n",
    "        winsound.Beep(1000, 100)\n",
    "    if flag == \"r\" :\n",
    "        winsound.Beep(1500, 100)\n",
    "        winsound.Beep(1500, 50)\n",
    "    if flag == \"s\" :\n",
    "        winsound.Beep(2500, 50)\n",
    "    return new_frame                  "
   ]
  },
  {
   "cell_type": "markdown",
   "metadata": {},
   "source": [
    "### The Function IfLineIsRed(frame) checking if the detecting strip is red or blue, by using algorithm Kmeans for detecting centers of colors groups. "
   ]
  },
  {
   "cell_type": "code",
   "execution_count": 16,
   "metadata": {},
   "outputs": [],
   "source": [
    "def IfLineIsRed(frame):\n",
    "    img_hsv = cv2.cvtColor(frame.copy(), cv2.COLOR_BGR2HSV)\n",
    "    temp = []\n",
    "    for i in range(0, h):\n",
    "        temp.append([img_hsv[i,i,:][0], img_hsv[i,i,:][0]])\n",
    "    temp = np.array(temp)\n",
    "    temp = np.float32(temp) \n",
    "    \n",
    "    centers_colors = use_kmeans(temp, 2)\n",
    "   \n",
    "    for c_c in centers_colors:\n",
    "        \n",
    "        if c_c[0] < 50 :\n",
    "            return True\n",
    "    return False"
   ]
  },
  {
   "cell_type": "code",
   "execution_count": 17,
   "metadata": {},
   "outputs": [],
   "source": [
    "def use_kmeans(xy, k):\n",
    "    criteria = (cv2.TERM_CRITERIA_EPS + cv2.TERM_CRITERIA_MAX_ITER, 10, 1.0)\n",
    "    _, labels, centers = cv2.kmeans(xy, k, None, criteria, 10, cv2.KMEANS_RANDOM_CENTERS)\n",
    "    labels = labels.flatten()  # from shape (n,1) to (n,)\n",
    "\n",
    "    return centers\n"
   ]
  },
  {
   "cell_type": "markdown",
   "metadata": {},
   "source": [
    "### The Main"
   ]
  },
  {
   "cell_type": "code",
   "execution_count": 18,
   "metadata": {
    "scrolled": true
   },
   "outputs": [
    {
     "name": "stdout",
     "output_type": "stream",
     "text": [
      " Writing blue frames to a new video file. May be take a few minutes...\n",
      "Done\n",
      "we glue the original part of the video together with edited part. It may takes a few minutes....\n",
      "Done\n"
     ]
    }
   ],
   "source": [
    "JustBlue('swimming_pool.mov', 'blue_out.mov')\n",
    "Rotate_And_Glue('swimming_pool.mov', 'blue_out.mov', 'swimming_pool_with_rotate.mov')\n",
    "\n",
    "cap = cv2.VideoCapture('swimming_pool_with_rotate.mov')\n",
    "\n",
    "ret ,frame0 = cap.read()\n",
    "h,w,_ = frame0.shape # (height x width x 3)\n",
    "\n",
    "fourcc = cv2.VideoWriter_fourcc(*'mp4v') # DIVX, XVID, MJPG, X264, WMV1, WMV2,...\n",
    "out = cv2.VideoWriter('video_out.mov',fourcc, 20.0, (w,h)) \n",
    "\n",
    "font = cv2.FONT_HERSHEY_DUPLEX\n",
    "\n",
    "while True:\n",
    "    ret, frame = cap.read()\n",
    "    if ret==True:\n",
    "         \n",
    "        cv2.imshow('Original',frame)\n",
    "       \n",
    "        if IfFrameBlue(frame,w,  h):\n",
    " \n",
    "            New_frame = DrawLines(frame)\n",
    "        else:\n",
    "            New_frame = frame\n",
    "        cv2.imshow('Project',New_frame)\n",
    "        out.write(New_frame)\n",
    " \n",
    "        if (cv2.waitKey(20) & 0xff == 27): # ESC key pressed?\n",
    "            break\n",
    "\n",
    "    else:\n",
    "        break\n",
    "        \n",
    "cap.release() # release input video\n",
    "out.release() # release output video \n",
    "cv2.destroyAllWindows() # delete output window\n",
    "cv2.waitKey(1);"
   ]
  },
  {
   "cell_type": "code",
   "execution_count": null,
   "metadata": {},
   "outputs": [],
   "source": []
  },
  {
   "cell_type": "code",
   "execution_count": null,
   "metadata": {},
   "outputs": [],
   "source": []
  }
 ],
 "metadata": {
  "kernelspec": {
   "display_name": "Python 3",
   "language": "python",
   "name": "python3"
  },
  "language_info": {
   "codemirror_mode": {
    "name": "ipython",
    "version": 3
   },
   "file_extension": ".py",
   "mimetype": "text/x-python",
   "name": "python",
   "nbconvert_exporter": "python",
   "pygments_lexer": "ipython3",
   "version": "3.7.6"
  }
 },
 "nbformat": 4,
 "nbformat_minor": 4
}
